{
 "cells": [
  {
   "cell_type": "markdown",
   "metadata": {},
   "source": [
    "__Finding time series for categories categories:__"
   ]
  },
  {
   "cell_type": "code",
   "execution_count": 1,
   "metadata": {},
   "outputs": [],
   "source": [
    "import pandas as pd\n",
    "import numpy as np\n",
    "import matplotlib.pyplot as plt\n",
    "\n",
    "import pickle"
   ]
  },
  {
   "cell_type": "code",
   "execution_count": 2,
   "metadata": {},
   "outputs": [],
   "source": [
    "drct = '/home/somayeh/Documents/Career/Data_Incubator/Project/'\n",
    "\n",
    "filename3 = 'uspatentcitation.tsv'"
   ]
  },
  {
   "cell_type": "code",
   "execution_count": 3,
   "metadata": {},
   "outputs": [],
   "source": [
    "filename = drct+'group_id_patent_list'\n",
    "with open(filename, 'rb') as f:\n",
    "    group_id_patent_list = pickle.load(f)\n",
    "\n",
    "def slicedict(d, s):\n",
    "    return {k:v for k,v in d.items() if k.startswith(s)}\n",
    "\n",
    "H04_group = slicedict(group_id_patent_list, 'H04')"
   ]
  },
  {
   "cell_type": "code",
   "execution_count": 4,
   "metadata": {},
   "outputs": [],
   "source": [
    "# h04_group_patent_ids =  []\n",
    "# for key in H04_group.keys():\n",
    "#     h04_group_patent_ids.append(H04_group[key])\n",
    "    \n",
    "# h04_group_patent_ids = [item for items in h04_group_patent_ids for item in items]"
   ]
  },
  {
   "cell_type": "code",
   "execution_count": 5,
   "metadata": {},
   "outputs": [
    {
     "data": {
      "text/plain": [
       "['H04B',\n",
       " 'H04L',\n",
       " 'H04W',\n",
       " 'H04N',\n",
       " 'H04J',\n",
       " 'H04R',\n",
       " 'H04H',\n",
       " 'H04M',\n",
       " 'H04Q',\n",
       " 'H04S',\n",
       " 'H04K']"
      ]
     },
     "execution_count": 5,
     "metadata": {},
     "output_type": "execute_result"
    }
   ],
   "source": [
    "list(H04_group.keys())"
   ]
  },
  {
   "cell_type": "code",
   "execution_count": 11,
   "metadata": {},
   "outputs": [],
   "source": [
    "H1 = H04_group[list(H04_group.keys())[7]]"
   ]
  },
  {
   "cell_type": "code",
   "execution_count": 6,
   "metadata": {
    "scrolled": true
   },
   "outputs": [
    {
     "name": "stdout",
     "output_type": "stream",
     "text": [
      "0\n",
      "1\n",
      "2\n",
      "3\n",
      "4\n",
      "5\n",
      "6\n",
      "7\n",
      "8\n",
      "9\n",
      "10\n",
      "11\n",
      "12\n",
      "13\n",
      "14\n",
      "15\n",
      "16\n",
      "17\n",
      "18\n",
      "19\n",
      "20\n",
      "21\n",
      "22\n",
      "23\n",
      "24\n",
      "25\n",
      "26\n",
      "27\n",
      "28\n",
      "29\n",
      "30\n",
      "31\n",
      "32\n",
      "33\n",
      "34\n",
      "35\n",
      "36\n",
      "37\n",
      "38\n",
      "39\n",
      "40\n",
      "41\n",
      "42\n",
      "43\n",
      "44\n",
      "45\n",
      "46\n",
      "47\n",
      "48\n",
      "49\n",
      "50\n",
      "51\n",
      "52\n",
      "53\n",
      "54\n",
      "55\n",
      "56\n",
      "57\n",
      "58\n",
      "59\n",
      "60\n",
      "61\n",
      "62\n",
      "63\n",
      "64\n",
      "65\n",
      "66\n",
      "67\n",
      "68\n",
      "69\n",
      "70\n",
      "71\n",
      "72\n",
      "73\n",
      "74\n",
      "75\n",
      "76\n",
      "77\n",
      "78\n",
      "79\n",
      "80\n",
      "81\n",
      "82\n",
      "83\n",
      "84\n",
      "85\n",
      "86\n",
      "87\n"
     ]
    }
   ],
   "source": [
    "df_chunk = pd.read_csv(drct+filename3,sep='\\t',header=0, chunksize=1000000)\n",
    "patent_list3 = []  \n",
    "for cnt, chunk in enumerate(df_chunk):\n",
    "    print(cnt)    \n",
    "    chunk.drop(['patent_id','citation_id','uuid', 'name', 'kind','country','category','sequence'], axis=1)\n",
    "    chunk['year'] = pd.to_datetime(chunk['date'], format = '%Y-%M-%d', errors='coerce').dt.year\n",
    "    patent_list3.append(chunk['year'])\n",
    "    \n",
    "year_all = pd.concat(patent_list3)\n",
    "del patent_list3    \n"
   ]
  },
  {
   "cell_type": "code",
   "execution_count": 8,
   "metadata": {},
   "outputs": [
    {
     "data": {
      "text/plain": [
       "[<matplotlib.lines.Line2D at 0x7fe4754bf860>]"
      ]
     },
     "execution_count": 8,
     "metadata": {},
     "output_type": "execute_result"
    },
    {
     "data": {
      "image/png": "[encoded data removed]",
      "text/plain": [
       "<Figure size 432x288 with 1 Axes>"
      ]
     },
     "metadata": {
      "needs_background": "light"
     },
     "output_type": "display_data"
    }
   ],
   "source": [
    "HH = np.histogram(year_all[(year_all<2020)&(year_all>=1970)],49)\n",
    "plt.plot(HH[1][:-1],HH[0])"
   ]
  },
  {
   "cell_type": "code",
   "execution_count": 12,
   "metadata": {},
   "outputs": [],
   "source": [
    "def citation_list(filename, H1):\n",
    "    df_chunk = pd.read_csv(filename,sep='\\t',header=0, chunksize=1000000)\n",
    "    patent_list3 = []  \n",
    "    for cnt, chunk in enumerate(df_chunk):\n",
    "#         print(cnt)\n",
    "        chunk.drop(['uuid', 'name', 'kind','country','category','sequence'], axis=1)\n",
    "        chunk['year'] = pd.to_datetime(chunk['date'], format = '%Y-%M-%d', errors='coerce').dt.year\n",
    "        chunk = chunk[(chunk.year>=1970)] \n",
    "        chunk = chunk.loc[chunk['citation_id'].str.isnumeric()]\n",
    "        chunk['citation_id'] = chunk['citation_id'].astype(int)\n",
    "        chunk = chunk.loc[pd.to_numeric(chunk['citation_id']).isin(H1)]\n",
    "        patent_list3.append(chunk[['citation_id','year']])\n",
    "    df3 = pd.concat(patent_list3)\n",
    "    del patent_list3\n",
    "    return(df3)"
   ]
  },
  {
   "cell_type": "code",
   "execution_count": null,
   "metadata": {},
   "outputs": [],
   "source": []
  },
  {
   "cell_type": "code",
   "execution_count": 17,
   "metadata": {},
   "outputs": [
    {
     "name": "stdout",
     "output_type": "stream",
     "text": [
      "H04B\n",
      "H04L\n",
      "H04W\n",
      "H04N\n",
      "H04J\n",
      "H04R\n",
      "H04H\n",
      "H04M\n",
      "H04Q\n",
      "H04S\n",
      "H04K\n"
     ]
    }
   ],
   "source": [
    "citation_hist = {}\n",
    "for hkey in H04_group.keys():\n",
    "    print(hkey)\n",
    "    H1 = H04_group[hkey]\n",
    "    df = citation_list(drct+filename3, H1)\n",
    "    yrs = df.year\n",
    "    h = np.histogram(yrs[(yrs<2020)&(yrs>=1970)],49)\n",
    "    citation_hist[hkey] = h[0]\n",
    "    del (df ,yrs)\n",
    "    "
   ]
  },
  {
   "cell_type": "code",
   "execution_count": 50,
   "metadata": {},
   "outputs": [],
   "source": [
    "import pickle\n",
    "with open(drct+'citation_hist2', 'wb') as f:\n",
    "    pickle.dump((citation_hist, HH), f)"
   ]
  },
  {
   "cell_type": "code",
   "execution_count": 48,
   "metadata": {},
   "outputs": [
    {
     "data": {
      "image/png": "[encoded data removed]",
      "text/plain": [
       "<Figure size 432x288 with 1 Axes>"
      ]
     },
     "metadata": {
      "needs_background": "light"
     },
     "output_type": "display_data"
    }
   ],
   "source": [
    "for hkey in citation_hist.keys():\n",
    "    H1 = citation_hist[hkey]\n",
    "#     if len(H04_group[hkey])>50000:\n",
    "    h = np.divide(H1,HH[0])\n",
    "    plt.plot(HH[1][:-1],h, 'o--')\n",
    "plt.show()"
   ]
  },
  {
   "cell_type": "code",
   "execution_count": 22,
   "metadata": {},
   "outputs": [
    {
     "data": {
      "text/plain": [
       "dict_keys(['H04B', 'H04L', 'H04W', 'H04N', 'H04J', 'H04R', 'H04H', 'H04M', 'H04Q', 'H04S', 'H04K'])"
      ]
     },
     "execution_count": 22,
     "metadata": {},
     "output_type": "execute_result"
    }
   ],
   "source": [
    "citation_hist.keys()"
   ]
  },
  {
   "cell_type": "code",
   "execution_count": 30,
   "metadata": {},
   "outputs": [
    {
     "data": {
      "text/plain": [
       "[<matplotlib.lines.Line2D at 0x7fe471224358>]"
      ]
     },
     "execution_count": 30,
     "metadata": {},
     "output_type": "execute_result"
    },
    {
     "data": {
      "image/png": "[encoded data removed]",
      "text/plain": [
       "<Figure size 432x288 with 1 Axes>"
      ]
     },
     "metadata": {
      "needs_background": "light"
     },
     "output_type": "display_data"
    }
   ],
   "source": [
    "plt.plot(citation_hist['H04L']/citation_hist['H04L'][-1])"
   ]
  },
  {
   "cell_type": "code",
   "execution_count": 28,
   "metadata": {},
   "outputs": [
    {
     "name": "stdout",
     "output_type": "stream",
     "text": [
      "[    4     2     7     2     2     8  4999  6275  4773  4557  5380  5319\n",
      "  6357  5125  9116  7925  8948 13276 10228 14406 15949 16675 22964 25235\n",
      " 34583 40557 49632 47034 73315 74461 76874 66420 62355 56458 52150 41210\n",
      " 50704 36892 33964 28627 29229 28365 27037 24430 20749 17705 11307  5698\n",
      "  1392]\n",
      "[     1      3      6      2     10      4   4649   5296   4269   3784\n",
      "   6480   5671   7004   8413   8892  12436  12586  19395  16296  21825\n",
      "  23272  29168  40663  45133  65615  73938 109078 119804 220585 239504\n",
      " 244267 236099 230644 218583 225127 172626 231645 176851 150014 143137\n",
      " 151454 132192 124773 105537  85052  56699  32295  15763   3033]\n",
      "[    1     1     0     0     1     1   301   501   614   864   559   592\n",
      "   655  1454  1402  1719  1478  5642  5796  7528  7640  9322 16052 18742\n",
      " 28401 33203 46629 43507 68810 75972 85853 77845 78849 85286 78200 66267\n",
      " 83240 69434 53864 51796 56501 58234 63829 55283 46063 33884 19527  9420\n",
      "  1702]\n",
      "[     6      6      7      9     13     23  10232  11251   9708   7418\n",
      "  11910  16130  16567  16573  19406  24094  28239  40518  36936  46851\n",
      "  48886  56638  64229  69813  79237  92263 131257 139613 195015 192128\n",
      " 161169 161549 138128 131477 123412  82179 106000  76142  65964  60951\n",
      "  66481  50809  53610  44863  39482  27089  15220   6851   1122]\n",
      "[    1     1     1     0     1     0  1362  1437  1285   964   953  1290\n",
      "  2166  1196  2430  1606  2021  3433  4002  4031  4446  6198  8143  8072\n",
      " 12651 12529 17735 15332 21358 21655 17228 19501 14684 14390 11255  9585\n",
      " 11962  7632  6982  5282  5182  3847  4672  4102  3278  3029  1826   723\n",
      "    82]\n",
      "[    2     0     2     1     2     4  2573  3119  2518  2111  2318  2358\n",
      "  2588  3476  3998  3464  4625  3987  4970  6033  5562  5489  5065  5612\n",
      "  6822  7572  7494  8104 13529  9618 11229 10977 10748 10465 10446  7115\n",
      "  8755  8234  5663  7827  7639  7710 11250  7789  6018  5393  3056  1851\n",
      "   157]\n",
      "[    1     0     0     0     0     0   739  1018   479   308  1159  1234\n",
      "   493  1001  1306  2781  2360  4965  3826  5048  5484  5031  6008  7238\n",
      "  8028  9906 17858 13848 26909 20255 11786 13973  9431 12178 10207  5369\n",
      "  8767  6415  5753  5502  6760  5719  3574  4527  1955  1313   703   357\n",
      "    31]\n",
      "[    3     2     2     5  3288  4051  3753  2545  3043  4612  5126  4738\n",
      "  8666  8218  8684 12601     0 15103 17959 18697 18210 17909 27750 37167\n",
      " 41151 54269 55713 90344 96519 89299 88753 84639     0 78628 76539 51577\n",
      " 67404 46574 36327 32957 34360 33997 35642 28516 22078 12968  7067  3366\n",
      "   406]\n",
      "[    1     0     0     1     4     7  1955  2634  2050  1890  2374  2025\n",
      "  2963  2316  2773  3325  3583  6258  9023  7956  8791 12301 12374 17492\n",
      " 25533 29673 40396 36578 53144 58251 47180 40158 36269 30745 22588 14363\n",
      " 14573 10900  7774  6373  4943  4268  3703  2851  2680  1836   903   535\n",
      "   111]\n",
      "[   1  479  322  372  208  608  384  330    0  401  162  173  456  340\n",
      "  306  788    0  457  552  814 1043  928 1286 1625    0 1814 2351 2501\n",
      " 1564 1402 1449 1369    0 1577  987 1358 1207 1179 2920 1768    0 1208\n",
      " 3313 1703 1016 1276  720  465   33]\n",
      "[   1    0    0    0    0    1  550  368  254  348  911  378  639  868\n",
      "  692  392  436 1627  433  592 1177  482 1656  988 1449  587  104  368\n",
      "  521 1659 1585 1758 1434 1480  928  749 1853  868 1683  490 1048  648\n",
      "  837  589  744  175  119   45    4]\n"
     ]
    }
   ],
   "source": [
    "for hkey in citation_hist.keys():\n",
    "    print(citation_hist[hkey])"
   ]
  },
  {
   "cell_type": "code",
   "execution_count": 49,
   "metadata": {},
   "outputs": [
    {
     "data": {
      "text/plain": [
       "array([ 418176,  584023,  620502,  667016,  748860,  779166,  820613,\n",
       "        796782,  816382,  614377,  801220,  886924,  819772,  829839,\n",
       "       1005030, 1103388, 1165439, 1459650, 1391214, 1727934, 1676337,\n",
       "       1834249, 1941293, 2066094, 2301124, 2375922, 2699840, 2803533,\n",
       "       3836949, 3838055, 3881078, 3836052, 3447488, 3301252, 2817622,\n",
       "       2141061, 2432725, 1983267, 1714522, 1569289, 1749472, 1458154,\n",
       "       1344022, 1164706,  920318,  624812,  403907,  205508,   38934])"
      ]
     },
     "execution_count": 49,
     "metadata": {},
     "output_type": "execute_result"
    }
   ],
   "source": [
    "HH[0]"
   ]
  },
  {
   "cell_type": "code",
   "execution_count": null,
   "metadata": {},
   "outputs": [],
   "source": []
  }
 ],
 "metadata": {
  "kernelspec": {
   "display_name": "Python 3",
   "language": "python",
   "name": "python3"
  },
  "language_info": {
   "codemirror_mode": {
    "name": "ipython",
    "version": 3
   },
   "file_extension": ".py",
   "mimetype": "text/x-python",
   "name": "python",
   "nbconvert_exporter": "python",
   "pygments_lexer": "ipython3",
   "version": "3.6.8"
  }
 },
 "nbformat": 4,
 "nbformat_minor": 2
}
